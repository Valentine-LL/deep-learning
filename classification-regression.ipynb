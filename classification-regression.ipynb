{
 "cells": [
  {
   "cell_type": "markdown",
   "metadata": {},
   "source": [
    "# Project: Image Classification and Regression"
   ]
  },
  {
   "cell_type": "code",
   "execution_count": 1,
   "metadata": {},
   "outputs": [
    {
     "name": "stderr",
     "output_type": "stream",
     "text": [
      "Using TensorFlow backend.\n"
     ]
    },
    {
     "data": {
      "image/png": "[encoded data removed]",
      "text/plain": [
       "<Figure size 432x288 with 1 Axes>"
      ]
     },
     "metadata": {
      "needs_background": "light"
     },
     "output_type": "display_data"
    }
   ],
   "source": [
    "import matplotlib.pyplot as plt\n",
    "%matplotlib inline\n",
    "import numpy as np\n",
    "from keras.utils import np_utils\n",
    "\n",
    "# On some implementations of matplotlib, you may need to change this value\n",
    "IMAGE_SIZE = 72\n",
    "\n",
    "def generate_a_drawing(figsize, U, V, noise=0.0):\n",
    "    fig = plt.figure(figsize=(figsize,figsize))\n",
    "    ax = plt.subplot(111)\n",
    "    plt.axis('Off')\n",
    "    ax.set_xlim(0,figsize)\n",
    "    ax.set_ylim(0,figsize)\n",
    "    ax.fill(U, V, \"k\")\n",
    "    fig.canvas.draw()\n",
    "    imdata = np.frombuffer(fig.canvas.tostring_rgb(), dtype=np.uint8)[::3].astype(np.float32)\n",
    "    imdata = imdata + noise * np.random.random(imdata.size)\n",
    "    plt.close(fig)\n",
    "    return imdata\n",
    "\n",
    "def generate_a_rectangle(noise=0.0, free_location=False):\n",
    "    figsize = 1.0    \n",
    "    U = np.zeros(4)\n",
    "    V = np.zeros(4)\n",
    "    if free_location:\n",
    "        corners = np.random.random(4)\n",
    "        top = max(corners[0], corners[1])\n",
    "        bottom = min(corners[0], corners[1])\n",
    "        left = min(corners[2], corners[3])\n",
    "        right = max(corners[2], corners[3])\n",
    "    else:\n",
    "        side = (0.3 + 0.7 * np.random.random()) * figsize\n",
    "        top = figsize/2 + side/2\n",
    "        bottom = figsize/2 - side/2\n",
    "        left = bottom\n",
    "        right = top\n",
    "    U[0] = U[1] = top\n",
    "    U[2] = U[3] = bottom\n",
    "    V[0] = V[3] = left\n",
    "    V[1] = V[2] = right\n",
    "    return generate_a_drawing(figsize, U, V, noise)\n",
    "\n",
    "\n",
    "def generate_a_disk(noise=0.0, free_location=False):\n",
    "    figsize = 1.0\n",
    "    if free_location:\n",
    "        center = np.random.random(2)\n",
    "    else:\n",
    "        center = (figsize/2, figsize/2)\n",
    "    radius = (0.3 + 0.7 * np.random.random()) * figsize/2\n",
    "    N = 50\n",
    "    U = np.zeros(N)\n",
    "    V = np.zeros(N)\n",
    "    i = 0\n",
    "    for t in np.linspace(0, 2*np.pi, N):\n",
    "        U[i] = center[0] + np.cos(t) * radius\n",
    "        V[i] = center[1] + np.sin(t) * radius\n",
    "        i = i + 1\n",
    "    return generate_a_drawing(figsize, U, V, noise)\n",
    "\n",
    "def generate_a_triangle(noise=0.0, free_location=False):\n",
    "    figsize = 1.0\n",
    "    if free_location:\n",
    "        U = np.random.random(3)\n",
    "        V = np.random.random(3)\n",
    "    else:\n",
    "        size = (0.3 + 0.7 * np.random.random())*figsize/2\n",
    "        middle = figsize/2\n",
    "        U = (middle, middle+size, middle-size)\n",
    "        V = (middle+size, middle-size, middle-size)\n",
    "    imdata = generate_a_drawing(figsize, U, V, noise)\n",
    "    return [imdata, [U[0], V[0], U[1], V[1], U[2], V[2]]]\n",
    "\n",
    "\n",
    "im = generate_a_rectangle(10, True)\n",
    "plt.imshow(im.reshape(IMAGE_SIZE,IMAGE_SIZE), cmap='gray')\n",
    "\n",
    "im = generate_a_disk(10)\n",
    "plt.imshow(im.reshape(IMAGE_SIZE,IMAGE_SIZE), cmap='gray')\n",
    "\n",
    "[im, v] = generate_a_triangle(20, False)\n",
    "plt.imshow(im.reshape(IMAGE_SIZE,IMAGE_SIZE), cmap='gray')\n",
    "\n",
    "\n",
    "def generate_dataset_classification(nb_samples, noise=0.0, free_location=False):\n",
    "    # Getting im_size:\n",
    "    im_size = generate_a_rectangle().shape[0]\n",
    "    X = np.zeros([nb_samples,im_size])\n",
    "    Y = np.zeros(nb_samples)\n",
    "    print('Creating data:')\n",
    "    for i in range(nb_samples):\n",
    "        if i % 10 == 0:\n",
    "            print(i)\n",
    "        category = np.random.randint(3)\n",
    "        if category == 0:\n",
    "            X[i] = generate_a_rectangle(noise, free_location)\n",
    "        elif category == 1: \n",
    "            X[i] = generate_a_disk(noise, free_location)\n",
    "        else:\n",
    "            [X[i], V] = generate_a_triangle(noise, free_location)\n",
    "        Y[i] = category\n",
    "    X = (X + noise) / (255 + 2 * noise)\n",
    "    return [X, Y]\n",
    "\n",
    "def generate_test_set_classification():\n",
    "    np.random.seed(42)\n",
    "    [X_test, Y_test] = generate_dataset_classification(300, 20, True)\n",
    "    Y_test = np_utils.to_categorical(Y_test, 3) \n",
    "    return [X_test, Y_test]\n",
    "\n",
    "def generate_dataset_regression(nb_samples, noise=0.0):\n",
    "    # Getting im_size:\n",
    "    im_size = generate_a_triangle()[0].shape[0]\n",
    "    X = np.zeros([nb_samples,im_size])\n",
    "    Y = np.zeros([nb_samples, 6])\n",
    "    print('Creating data:')\n",
    "    for i in range(nb_samples):\n",
    "        if i % 10 == 0:\n",
    "            print(i)\n",
    "        [X[i], Y[i]] = generate_a_triangle(noise, True)\n",
    "    X = (X + noise) / (255 + 2 * noise)\n",
    "    return [X, Y]\n",
    "\n",
    "import matplotlib.patches as patches\n",
    "\n",
    "def visualize_prediction(x, y):\n",
    "    fig, ax = plt.subplots(figsize=(5, 5))\n",
    "    I = x.reshape((IMAGE_SIZE,IMAGE_SIZE))\n",
    "    ax.imshow(I, extent=[-0.15,1.15,-0.15,1.15],cmap='gray')\n",
    "    ax.set_xlim([0,1])\n",
    "    ax.set_ylim([0,1])\n",
    "\n",
    "    xy = y.reshape(3,2)\n",
    "    tri = patches.Polygon(xy, closed=True, fill = False, edgecolor = 'r', linewidth = 5, alpha = 0.5)\n",
    "    ax.add_patch(tri)\n",
    "\n",
    "    plt.show()\n",
    "\n",
    "def generate_test_set_regression():\n",
    "    np.random.seed(42)\n",
    "    [X_test, Y_test] = generate_dataset_regression(300, 20)\n",
    "    return [X_test, Y_test]\n",
    "\n"
   ]
  },
  {
   "cell_type": "markdown",
   "metadata": {},
   "source": [
    "# I. Simple Classification"
   ]
  },
  {
   "cell_type": "code",
   "execution_count": 56,
   "metadata": {},
   "outputs": [
    {
     "name": "stdout",
     "output_type": "stream",
     "text": [
      "Creating data:\n",
      "0\n",
      "10\n",
      "20\n",
      "30\n",
      "40\n",
      "50\n",
      "60\n",
      "70\n",
      "80\n",
      "90\n",
      "100\n",
      "110\n",
      "120\n",
      "130\n",
      "140\n",
      "150\n",
      "160\n",
      "170\n",
      "180\n",
      "190\n",
      "200\n",
      "210\n",
      "220\n",
      "230\n",
      "240\n",
      "250\n",
      "260\n",
      "270\n",
      "280\n",
      "290\n"
     ]
    }
   ],
   "source": [
    "X_train, Y_train = generate_dataset_classification(300, 20)"
   ]
  },
  {
   "cell_type": "code",
   "execution_count": 57,
   "metadata": {},
   "outputs": [
    {
     "name": "stdout",
     "output_type": "stream",
     "text": [
      "Creating data:\n",
      "0\n",
      "10\n",
      "20\n",
      "30\n",
      "40\n",
      "50\n",
      "60\n",
      "70\n",
      "80\n",
      "90\n",
      "100\n",
      "110\n",
      "120\n",
      "130\n",
      "140\n",
      "150\n",
      "160\n",
      "170\n",
      "180\n",
      "190\n",
      "200\n",
      "210\n",
      "220\n",
      "230\n",
      "240\n",
      "250\n",
      "260\n",
      "270\n",
      "280\n",
      "290\n"
     ]
    }
   ],
   "source": [
    "X_test, Y_test = generate_dataset_classification(300, 20)"
   ]
  },
  {
   "cell_type": "code",
   "execution_count": 58,
   "metadata": {},
   "outputs": [
    {
     "name": "stdout",
     "output_type": "stream",
     "text": [
      "(300, 5184)\n",
      "(300,)\n"
     ]
    }
   ],
   "source": [
    "print(X_train.shape)\n",
    "print(Y_train.shape)"
   ]
  },
  {
   "cell_type": "code",
   "execution_count": 59,
   "metadata": {},
   "outputs": [],
   "source": [
    "from keras.models import Sequential\n",
    "model = Sequential()"
   ]
  },
  {
   "cell_type": "code",
   "execution_count": 60,
   "metadata": {},
   "outputs": [],
   "source": [
    "from keras.layers import Dense, Activation, Dropout\n",
    "\n",
    "model.add(Dense(3, input_shape=(5184,)))\n",
    "model.add(Dropout(0.2))\n",
    "model.add(Activation('softmax'))"
   ]
  },
  {
   "cell_type": "markdown",
   "metadata": {},
   "source": [
    "## Using the stochastic gradient descent optimizer"
   ]
  },
  {
   "cell_type": "code",
   "execution_count": 61,
   "metadata": {},
   "outputs": [],
   "source": [
    "from keras.optimizers import SGD\n",
    "\n",
    "sgd = SGD(lr=0.01, decay=1e-6, momentum=0.9, nesterov=True)\n",
    "model.compile(loss='sparse_categorical_crossentropy', optimizer=sgd, metrics=['accuracy'])"
   ]
  },
  {
   "cell_type": "code",
   "execution_count": 62,
   "metadata": {},
   "outputs": [
    {
     "name": "stdout",
     "output_type": "stream",
     "text": [
      "Train on 300 samples, validate on 300 samples\n",
      "Epoch 1/10\n",
      "300/300 [==============================] - 0s 834us/step - loss: 9.3701 - acc: 0.2900 - val_loss: 10.9603 - val_acc: 0.3200\n",
      "Epoch 2/10\n",
      "300/300 [==============================] - 0s 112us/step - loss: 11.1808 - acc: 0.3000 - val_loss: 10.9603 - val_acc: 0.3200\n",
      "Epoch 3/10\n",
      "300/300 [==============================] - 0s 100us/step - loss: 10.6674 - acc: 0.3233 - val_loss: 10.9603 - val_acc: 0.3200\n",
      "Epoch 4/10\n",
      "300/300 [==============================] - 0s 113us/step - loss: 10.9852 - acc: 0.3067 - val_loss: 10.9603 - val_acc: 0.3200\n",
      "Epoch 5/10\n",
      "300/300 [==============================] - 0s 102us/step - loss: 11.1450 - acc: 0.2800 - val_loss: 10.9603 - val_acc: 0.3200\n",
      "Epoch 6/10\n",
      "300/300 [==============================] - 0s 105us/step - loss: 10.6160 - acc: 0.3100 - val_loss: 10.9603 - val_acc: 0.3200\n",
      "Epoch 7/10\n",
      "300/300 [==============================] - 0s 99us/step - loss: 11.4076 - acc: 0.2800 - val_loss: 10.9603 - val_acc: 0.3200\n",
      "Epoch 8/10\n",
      "300/300 [==============================] - 0s 96us/step - loss: 11.0876 - acc: 0.3000 - val_loss: 10.9603 - val_acc: 0.3200\n",
      "Epoch 9/10\n",
      "300/300 [==============================] - 0s 101us/step - loss: 11.3599 - acc: 0.2767 - val_loss: 10.9603 - val_acc: 0.3200\n",
      "Epoch 10/10\n",
      "300/300 [==============================] - 0s 113us/step - loss: 10.8727 - acc: 0.3100 - val_loss: 10.9603 - val_acc: 0.3200\n"
     ]
    },
    {
     "data": {
      "text/plain": [
       "<keras.callbacks.History at 0x7fc78f81bc88>"
      ]
     },
     "execution_count": 62,
     "metadata": {},
     "output_type": "execute_result"
    }
   ],
   "source": [
    "model.fit(X_train, Y_train, validation_data=(X_test, Y_test), epochs=10, batch_size=32)"
   ]
  },
  {
   "cell_type": "markdown",
   "metadata": {},
   "source": [
    "## Using the Adam optimizer "
   ]
  },
  {
   "cell_type": "code",
   "execution_count": 63,
   "metadata": {},
   "outputs": [],
   "source": [
    "model = Sequential()\n",
    "\n",
    "model.add(Dense(3, input_shape=(5184,)))\n",
    "model.add(Dropout(0.2))\n",
    "model.add(Activation('softmax'))"
   ]
  },
  {
   "cell_type": "code",
   "execution_count": 64,
   "metadata": {},
   "outputs": [],
   "source": [
    "model.compile(loss='sparse_categorical_crossentropy', optimizer='adam', metrics=['accuracy'])"
   ]
  },
  {
   "cell_type": "code",
   "execution_count": 65,
   "metadata": {},
   "outputs": [
    {
     "name": "stdout",
     "output_type": "stream",
     "text": [
      "Train on 300 samples, validate on 300 samples\n",
      "Epoch 1/10\n",
      "300/300 [==============================] - 0s 958us/step - loss: 1.5196 - acc: 0.4067 - val_loss: 0.9380 - val_acc: 0.6167\n",
      "Epoch 2/10\n",
      "300/300 [==============================] - 0s 104us/step - loss: 0.9188 - acc: 0.6033 - val_loss: 0.5998 - val_acc: 0.7233\n",
      "Epoch 3/10\n",
      "300/300 [==============================] - 0s 113us/step - loss: 0.7157 - acc: 0.6733 - val_loss: 0.5376 - val_acc: 0.7500\n",
      "Epoch 4/10\n",
      "300/300 [==============================] - 0s 106us/step - loss: 0.5376 - acc: 0.7400 - val_loss: 0.6618 - val_acc: 0.7300\n",
      "Epoch 5/10\n",
      "300/300 [==============================] - 0s 112us/step - loss: 0.4743 - acc: 0.7867 - val_loss: 0.4061 - val_acc: 0.8000\n",
      "Epoch 6/10\n",
      "300/300 [==============================] - 0s 103us/step - loss: 0.3749 - acc: 0.8233 - val_loss: 0.2754 - val_acc: 0.9533\n",
      "Epoch 7/10\n",
      "300/300 [==============================] - 0s 111us/step - loss: 0.3510 - acc: 0.8833 - val_loss: 0.2753 - val_acc: 0.9400\n",
      "Epoch 8/10\n",
      "300/300 [==============================] - 0s 108us/step - loss: 0.3234 - acc: 0.8533 - val_loss: 0.2850 - val_acc: 0.8800\n",
      "Epoch 9/10\n",
      "300/300 [==============================] - 0s 114us/step - loss: 0.3028 - acc: 0.9000 - val_loss: 0.2046 - val_acc: 0.9667\n",
      "Epoch 10/10\n",
      "300/300 [==============================] - 0s 110us/step - loss: 0.2736 - acc: 0.9300 - val_loss: 0.1724 - val_acc: 0.9900\n"
     ]
    },
    {
     "data": {
      "text/plain": [
       "<keras.callbacks.History at 0x7fc78c4912b0>"
      ]
     },
     "execution_count": 65,
     "metadata": {},
     "output_type": "execute_result"
    }
   ],
   "source": [
    "model.fit(X_train, Y_train, validation_data=(X_test, Y_test), epochs=10, batch_size=32)"
   ]
  },
  {
   "cell_type": "code",
   "execution_count": 66,
   "metadata": {
    "scrolled": true
   },
   "outputs": [
    {
     "name": "stdout",
     "output_type": "stream",
     "text": [
      "300/300 [==============================] - 0s 34us/step\n",
      "accuracy = 0.99\n"
     ]
    }
   ],
   "source": [
    "acc = model.evaluate(X_test, Y_test)[1]\n",
    "print('accuracy =', acc)"
   ]
  },
  {
   "cell_type": "markdown",
   "metadata": {},
   "source": [
    "# II. Visualization"
   ]
  },
  {
   "cell_type": "code",
   "execution_count": 67,
   "metadata": {},
   "outputs": [],
   "source": [
    "import matplotlib.pyplot as plt\n",
    "import matplotlib.cm as cm\n",
    "#Makes imageplotlib show the images inline\n",
    "#in Jupyter notebooks:\n",
    "%matplotlib inline"
   ]
  },
  {
   "cell_type": "code",
   "execution_count": 68,
   "metadata": {},
   "outputs": [
    {
     "data": {
      "text/plain": [
       "<matplotlib.image.AxesImage at 0x7fc78c14fe10>"
      ]
     },
     "execution_count": 68,
     "metadata": {},
     "output_type": "execute_result"
    },
    {
     "data": {
      "image/png": "[encoded data removed]",
      "text/plain": [
       "<Figure size 432x288 with 1 Axes>"
      ]
     },
     "metadata": {
      "needs_background": "light"
     },
     "output_type": "display_data"
    }
   ],
   "source": [
    "I = model.get_weights()[0][:,0].reshape((72, 72))\n",
    "plt.imshow(I, cmap = cm.Greys)"
   ]
  },
  {
   "cell_type": "code",
   "execution_count": 69,
   "metadata": {},
   "outputs": [
    {
     "data": {
      "text/plain": [
       "<matplotlib.image.AxesImage at 0x7fc78c1304e0>"
      ]
     },
     "execution_count": 69,
     "metadata": {},
     "output_type": "execute_result"
    },
    {
     "data": {
      "image/png": "[encoded data removed]",
      "text/plain": [
       "<Figure size 432x288 with 1 Axes>"
      ]
     },
     "metadata": {
      "needs_background": "light"
     },
     "output_type": "display_data"
    }
   ],
   "source": [
    "I2 = model.get_weights()[0][:,1].reshape((72, 72))\n",
    "plt.imshow(I2, cmap = cm.Greys)"
   ]
  },
  {
   "cell_type": "code",
   "execution_count": 70,
   "metadata": {},
   "outputs": [
    {
     "data": {
      "text/plain": [
       "<matplotlib.image.AxesImage at 0x7fc78c086b70>"
      ]
     },
     "execution_count": 70,
     "metadata": {},
     "output_type": "execute_result"
    },
    {
     "data": {
      "image/png": "[encoded data removed]",
      "text/plain": [
       "<Figure size 432x288 with 1 Axes>"
      ]
     },
     "metadata": {
      "needs_background": "light"
     },
     "output_type": "display_data"
    }
   ],
   "source": [
    "I3 = model.get_weights()[0][:,2].reshape((72, 72))\n",
    "plt.imshow(I3, cmap = cm.Greys)"
   ]
  },
  {
   "cell_type": "markdown",
   "metadata": {},
   "source": [
    "# III. A More Difficult Classification"
   ]
  },
  {
   "cell_type": "code",
   "execution_count": 74,
   "metadata": {},
   "outputs": [
    {
     "name": "stdout",
     "output_type": "stream",
     "text": [
      "Creating data:\n",
      "0\n",
      "10\n",
      "20\n",
      "30\n",
      "40\n",
      "50\n",
      "60\n",
      "70\n",
      "80\n",
      "90\n",
      "100\n",
      "110\n",
      "120\n",
      "130\n",
      "140\n",
      "150\n",
      "160\n",
      "170\n",
      "180\n",
      "190\n",
      "200\n",
      "210\n",
      "220\n",
      "230\n",
      "240\n",
      "250\n",
      "260\n",
      "270\n",
      "280\n",
      "290\n"
     ]
    }
   ],
   "source": [
    "X_train, Y_train = generate_dataset_classification(300, 20, True)"
   ]
  },
  {
   "cell_type": "code",
   "execution_count": 75,
   "metadata": {},
   "outputs": [
    {
     "name": "stdout",
     "output_type": "stream",
     "text": [
      "Creating data:\n",
      "0\n",
      "10\n",
      "20\n",
      "30\n",
      "40\n",
      "50\n",
      "60\n",
      "70\n",
      "80\n",
      "90\n",
      "100\n",
      "110\n",
      "120\n",
      "130\n",
      "140\n",
      "150\n",
      "160\n",
      "170\n",
      "180\n",
      "190\n",
      "200\n",
      "210\n",
      "220\n",
      "230\n",
      "240\n",
      "250\n",
      "260\n",
      "270\n",
      "280\n",
      "290\n"
     ]
    }
   ],
   "source": [
    "X_test, Y_test = generate_test_set_classification()"
   ]
  },
  {
   "cell_type": "code",
   "execution_count": 76,
   "metadata": {},
   "outputs": [],
   "source": [
    "# Reformatting the input\n",
    "X_train = X_train.reshape(X_train.shape[0], 72, 72, 1)\n",
    "X_train = X_train.astype('float32')\n",
    "X_train /= 255\n",
    "\n",
    "X_test = X_test.reshape(X_test.shape[0], 72, 72, 1)\n",
    "X_test = X_test.astype('float32')\n",
    "X_test /= 255"
   ]
  },
  {
   "cell_type": "code",
   "execution_count": 77,
   "metadata": {},
   "outputs": [],
   "source": [
    "from keras.utils import np_utils\n",
    "Y_train = np_utils.to_categorical(Y_train, 3)"
   ]
  },
  {
   "cell_type": "code",
   "execution_count": 78,
   "metadata": {},
   "outputs": [
    {
     "name": "stdout",
     "output_type": "stream",
     "text": [
      "_________________________________________________________________\n",
      "Layer (type)                 Output Shape              Param #   \n",
      "=================================================================\n",
      "conv2d_3 (Conv2D)            (None, 68, 68, 16)        416       \n",
      "_________________________________________________________________\n",
      "dropout_12 (Dropout)         (None, 68, 68, 16)        0         \n",
      "_________________________________________________________________\n",
      "max_pooling2d_3 (MaxPooling2 (None, 34, 34, 16)        0         \n",
      "_________________________________________________________________\n",
      "flatten_2 (Flatten)          (None, 18496)             0         \n",
      "_________________________________________________________________\n",
      "dense_10 (Dense)             (None, 3)                 55491     \n",
      "_________________________________________________________________\n",
      "dropout_13 (Dropout)         (None, 3)                 0         \n",
      "_________________________________________________________________\n",
      "activation_10 (Activation)   (None, 3)                 0         \n",
      "=================================================================\n",
      "Total params: 55,907\n",
      "Trainable params: 55,907\n",
      "Non-trainable params: 0\n",
      "_________________________________________________________________\n"
     ]
    }
   ],
   "source": [
    "from keras.models import Sequential\n",
    "from keras.layers import Conv2D, MaxPooling2D, Flatten\n",
    "\n",
    "model = Sequential()\n",
    "\n",
    "model.add(Conv2D(16, (5, 5), activation='relu', input_shape=(72, 72, 1)))\n",
    "model.add(Dropout(0.2))\n",
    "model.add(MaxPooling2D(pool_size=(2, 2)))\n",
    "\n",
    "model.add(Flatten())\n",
    "model.add(Dense(3))\n",
    "model.add(Dropout(0.2))\n",
    "model.add(Activation('softmax'))\n",
    "model.summary()"
   ]
  },
  {
   "cell_type": "code",
   "execution_count": 79,
   "metadata": {},
   "outputs": [],
   "source": [
    "model.compile(loss='categorical_crossentropy', optimizer='adam', metrics=['accuracy'])"
   ]
  },
  {
   "cell_type": "code",
   "execution_count": 80,
   "metadata": {},
   "outputs": [
    {
     "name": "stdout",
     "output_type": "stream",
     "text": [
      "Train on 300 samples, validate on 300 samples\n",
      "Epoch 1/30\n",
      "300/300 [==============================] - 1s 3ms/step - loss: 1.0991 - acc: 0.2933 - val_loss: 1.0985 - val_acc: 0.3300\n",
      "Epoch 2/30\n",
      "300/300 [==============================] - 1s 2ms/step - loss: 1.0980 - acc: 0.3733 - val_loss: 1.0982 - val_acc: 0.3300\n",
      "Epoch 3/30\n",
      "300/300 [==============================] - 1s 2ms/step - loss: 1.0968 - acc: 0.3733 - val_loss: 1.0990 - val_acc: 0.3300\n",
      "Epoch 4/30\n",
      "300/300 [==============================] - 1s 2ms/step - loss: 1.0953 - acc: 0.3633 - val_loss: 1.1007 - val_acc: 0.3300\n",
      "Epoch 5/30\n",
      "300/300 [==============================] - 1s 2ms/step - loss: 1.0952 - acc: 0.3667 - val_loss: 1.0995 - val_acc: 0.3300\n",
      "Epoch 6/30\n",
      "300/300 [==============================] - 1s 2ms/step - loss: 1.0959 - acc: 0.3500 - val_loss: 1.0979 - val_acc: 0.3300\n",
      "Epoch 7/30\n",
      "300/300 [==============================] - 1s 2ms/step - loss: 1.0952 - acc: 0.3567 - val_loss: 1.0987 - val_acc: 0.3300\n",
      "Epoch 8/30\n",
      "300/300 [==============================] - 1s 2ms/step - loss: 1.0947 - acc: 0.3700 - val_loss: 1.0976 - val_acc: 0.3300\n",
      "Epoch 9/30\n",
      "300/300 [==============================] - 1s 2ms/step - loss: 1.0929 - acc: 0.3733 - val_loss: 1.0971 - val_acc: 0.3300\n",
      "Epoch 10/30\n",
      "300/300 [==============================] - 1s 2ms/step - loss: 1.0940 - acc: 0.3800 - val_loss: 1.0965 - val_acc: 0.3300\n",
      "Epoch 11/30\n",
      "300/300 [==============================] - 1s 2ms/step - loss: 1.0893 - acc: 0.3833 - val_loss: 1.0983 - val_acc: 0.3300\n",
      "Epoch 12/30\n",
      "300/300 [==============================] - 1s 2ms/step - loss: 1.0899 - acc: 0.3667 - val_loss: 1.0984 - val_acc: 0.3300\n",
      "Epoch 13/30\n",
      "300/300 [==============================] - 1s 2ms/step - loss: 1.0855 - acc: 0.3733 - val_loss: 1.0979 - val_acc: 0.3300\n",
      "Epoch 14/30\n",
      "300/300 [==============================] - 1s 2ms/step - loss: 1.0845 - acc: 0.3900 - val_loss: 1.0983 - val_acc: 0.3300\n",
      "Epoch 15/30\n",
      "300/300 [==============================] - 1s 2ms/step - loss: 1.0893 - acc: 0.3533 - val_loss: 1.0915 - val_acc: 0.3667\n",
      "Epoch 16/30\n",
      "300/300 [==============================] - 1s 2ms/step - loss: 1.0852 - acc: 0.3867 - val_loss: 1.0933 - val_acc: 0.3300\n",
      "Epoch 17/30\n",
      "300/300 [==============================] - 1s 2ms/step - loss: 1.0850 - acc: 0.3767 - val_loss: 1.0926 - val_acc: 0.3300\n",
      "Epoch 18/30\n",
      "300/300 [==============================] - 1s 2ms/step - loss: 1.0802 - acc: 0.3867 - val_loss: 1.0883 - val_acc: 0.3300\n",
      "Epoch 19/30\n",
      "300/300 [==============================] - 1s 2ms/step - loss: 1.0809 - acc: 0.4233 - val_loss: 1.0857 - val_acc: 0.3300\n",
      "Epoch 20/30\n",
      "300/300 [==============================] - 1s 2ms/step - loss: 1.0753 - acc: 0.3900 - val_loss: 1.0852 - val_acc: 0.3300\n",
      "Epoch 21/30\n",
      "300/300 [==============================] - 1s 2ms/step - loss: 1.0771 - acc: 0.3733 - val_loss: 1.0858 - val_acc: 0.3300\n",
      "Epoch 22/30\n",
      "300/300 [==============================] - 1s 3ms/step - loss: 1.0677 - acc: 0.4133 - val_loss: 1.0807 - val_acc: 0.4000\n",
      "Epoch 23/30\n",
      "300/300 [==============================] - 1s 2ms/step - loss: 1.0646 - acc: 0.4067 - val_loss: 1.0797 - val_acc: 0.3300\n",
      "Epoch 24/30\n",
      "300/300 [==============================] - 1s 2ms/step - loss: 1.0657 - acc: 0.3900 - val_loss: 1.0753 - val_acc: 0.3933\n",
      "Epoch 25/30\n",
      "300/300 [==============================] - 1s 3ms/step - loss: 1.0595 - acc: 0.4567 - val_loss: 1.0713 - val_acc: 0.3933\n",
      "Epoch 26/30\n",
      "300/300 [==============================] - 1s 2ms/step - loss: 1.0552 - acc: 0.3900 - val_loss: 1.0757 - val_acc: 0.3300\n",
      "Epoch 27/30\n",
      "300/300 [==============================] - 1s 2ms/step - loss: 1.0579 - acc: 0.4300 - val_loss: 1.0694 - val_acc: 0.4233\n",
      "Epoch 28/30\n",
      "300/300 [==============================] - 1s 2ms/step - loss: 1.0485 - acc: 0.4500 - val_loss: 1.0620 - val_acc: 0.3300\n",
      "Epoch 29/30\n",
      "300/300 [==============================] - 1s 2ms/step - loss: 1.0373 - acc: 0.4000 - val_loss: 1.0586 - val_acc: 0.3967\n",
      "Epoch 30/30\n",
      "300/300 [==============================] - 1s 2ms/step - loss: 1.0356 - acc: 0.4367 - val_loss: 1.0558 - val_acc: 0.3300\n"
     ]
    },
    {
     "data": {
      "text/plain": [
       "<keras.callbacks.History at 0x7fc78c61ca90>"
      ]
     },
     "execution_count": 80,
     "metadata": {},
     "output_type": "execute_result"
    }
   ],
   "source": [
    "model.fit(X_train, Y_train, validation_data=(X_test, Y_test), epochs=30, batch_size=32)"
   ]
  },
  {
   "cell_type": "code",
   "execution_count": 81,
   "metadata": {},
   "outputs": [
    {
     "name": "stdout",
     "output_type": "stream",
     "text": [
      "300/300 [==============================] - 0s 632us/step\n",
      "accuracy = 0.33\n"
     ]
    }
   ],
   "source": [
    "acc = model.evaluate(X_test, Y_test)[1]\n",
    "print('accuracy =', acc)"
   ]
  },
  {
   "cell_type": "markdown",
   "metadata": {},
   "source": [
    "# IV. Regression"
   ]
  },
  {
   "cell_type": "code",
   "execution_count": 167,
   "metadata": {},
   "outputs": [
    {
     "name": "stdout",
     "output_type": "stream",
     "text": [
      "Creating data:\n",
      "0\n",
      "10\n",
      "20\n",
      "30\n",
      "40\n",
      "50\n",
      "60\n",
      "70\n",
      "80\n",
      "90\n",
      "100\n",
      "110\n",
      "120\n",
      "130\n",
      "140\n",
      "150\n",
      "160\n",
      "170\n",
      "180\n",
      "190\n",
      "200\n",
      "210\n",
      "220\n",
      "230\n",
      "240\n",
      "250\n",
      "260\n",
      "270\n",
      "280\n",
      "290\n"
     ]
    }
   ],
   "source": [
    "X_train, Y_train = generate_dataset_regression(300, 20)\n",
    "model.add(BatchNormalization())"
   ]
  },
  {
   "cell_type": "code",
   "execution_count": 168,
   "metadata": {},
   "outputs": [
    {
     "name": "stdout",
     "output_type": "stream",
     "text": [
      "Creating data:\n",
      "0\n",
      "10\n",
      "20\n",
      "30\n",
      "40\n",
      "50\n",
      "60\n",
      "70\n",
      "80\n",
      "90\n",
      "100\n",
      "110\n",
      "120\n",
      "130\n",
      "140\n",
      "150\n",
      "160\n",
      "170\n",
      "180\n",
      "190\n",
      "200\n",
      "210\n",
      "220\n",
      "230\n",
      "240\n",
      "250\n",
      "260\n",
      "270\n",
      "280\n",
      "290\n"
     ]
    }
   ],
   "source": [
    "X_test, Y_test = generate_test_set_regression()"
   ]
  },
  {
   "cell_type": "code",
   "execution_count": 169,
   "metadata": {},
   "outputs": [],
   "source": [
    "X_train = X_train.reshape(X_train.shape[0], 72, 72, 1)\n",
    "X_train = X_train.astype('float32')\n",
    "X_train /= 255\n",
    "\n",
    "X_test = X_test.reshape(X_test.shape[0], 72, 72, 1)\n",
    "X_test = X_test.astype('float32')\n",
    "X_test /= 255"
   ]
  },
  {
   "cell_type": "code",
   "execution_count": 170,
   "metadata": {},
   "outputs": [],
   "source": [
    "model = Sequential()\n",
    "\n",
    "model.add(Conv2D(16, (5, 5), activation='relu'))\n",
    "model.add(BatchNormalization())\n",
    "model.add(Dropout(0.2))\n",
    "model.add(MaxPooling2D(pool_size=(2, 2)))\n",
    "\n",
    "model.add(Flatten())\n",
    "model.add(Dense(6))\n",
    "model.add(Dropout(0.2))"
   ]
  },
  {
   "cell_type": "code",
   "execution_count": 171,
   "metadata": {},
   "outputs": [],
   "source": [
    "model.compile(loss='mean_squared_error', optimizer='adam')"
   ]
  },
  {
   "cell_type": "code",
   "execution_count": 172,
   "metadata": {},
   "outputs": [
    {
     "name": "stdout",
     "output_type": "stream",
     "text": [
      "Train on 300 samples, validate on 300 samples\n",
      "Epoch 1/20\n",
      "300/300 [==============================] - 2s 7ms/step - loss: 0.2084 - val_loss: 10.7967\n",
      "Epoch 2/20\n",
      "300/300 [==============================] - 1s 4ms/step - loss: 0.1280 - val_loss: 11.1041\n",
      "Epoch 3/20\n",
      "300/300 [==============================] - 1s 4ms/step - loss: 0.1229 - val_loss: 7.7543\n",
      "Epoch 4/20\n",
      "300/300 [==============================] - 1s 4ms/step - loss: 0.1175 - val_loss: 6.1912\n",
      "Epoch 5/20\n",
      "300/300 [==============================] - 1s 4ms/step - loss: 0.1052 - val_loss: 4.1022\n",
      "Epoch 6/20\n",
      "300/300 [==============================] - 1s 4ms/step - loss: 0.1101 - val_loss: 2.2216\n",
      "Epoch 7/20\n",
      "300/300 [==============================] - 1s 4ms/step - loss: 0.1126 - val_loss: 1.4097\n",
      "Epoch 8/20\n",
      "300/300 [==============================] - 1s 4ms/step - loss: 0.1001 - val_loss: 1.1630\n",
      "Epoch 9/20\n",
      "300/300 [==============================] - 1s 4ms/step - loss: 0.1031 - val_loss: 0.6866\n",
      "Epoch 10/20\n",
      "300/300 [==============================] - 1s 4ms/step - loss: 0.1076 - val_loss: 0.4273\n",
      "Epoch 11/20\n",
      "300/300 [==============================] - 1s 4ms/step - loss: 0.0968 - val_loss: 0.4658\n",
      "Epoch 12/20\n",
      "300/300 [==============================] - 1s 4ms/step - loss: 0.1008 - val_loss: 0.6351\n",
      "Epoch 13/20\n",
      "300/300 [==============================] - 1s 4ms/step - loss: 0.0980 - val_loss: 0.5391\n",
      "Epoch 14/20\n",
      "300/300 [==============================] - 3s 10ms/step - loss: 0.0952 - val_loss: 0.5157\n",
      "Epoch 15/20\n",
      "300/300 [==============================] - 4s 12ms/step - loss: 0.0930 - val_loss: 0.4942\n",
      "Epoch 16/20\n",
      "300/300 [==============================] - 2s 6ms/step - loss: 0.0950 - val_loss: 0.4209\n",
      "Epoch 17/20\n",
      "300/300 [==============================] - 1s 4ms/step - loss: 0.0891 - val_loss: 0.2908\n",
      "Epoch 18/20\n",
      "300/300 [==============================] - 1s 4ms/step - loss: 0.0817 - val_loss: 0.2207\n",
      "Epoch 19/20\n",
      "300/300 [==============================] - 1s 4ms/step - loss: 0.0811 - val_loss: 0.3303\n",
      "Epoch 20/20\n",
      "300/300 [==============================] - 1s 4ms/step - loss: 0.0820 - val_loss: 0.3143\n"
     ]
    },
    {
     "data": {
      "text/plain": [
       "<keras.callbacks.History at 0x7fc746145630>"
      ]
     },
     "execution_count": 172,
     "metadata": {},
     "output_type": "execute_result"
    }
   ],
   "source": [
    "model.fit(X_train, Y_train, validation_data=(X_test, Y_test), epochs=20, batch_size=32)"
   ]
  },
  {
   "cell_type": "code",
   "execution_count": 173,
   "metadata": {},
   "outputs": [],
   "source": [
    "pred = model.predict(X_test)"
   ]
  },
  {
   "cell_type": "code",
   "execution_count": 174,
   "metadata": {},
   "outputs": [
    {
     "data": {
      "image/png": "[encoded data removed]",
      "text/plain": [
       "<Figure size 360x360 with 1 Axes>"
      ]
     },
     "metadata": {
      "needs_background": "light"
     },
     "output_type": "display_data"
    }
   ],
   "source": [
    "visualize_prediction(X_test[0], pred[0])"
   ]
  }
 ],
 "metadata": {
  "kernelspec": {
   "display_name": "Python 3",
   "language": "python",
   "name": "python3"
  },
  "language_info": {
   "codemirror_mode": {
    "name": "ipython",
    "version": 3
   },
   "file_extension": ".py",
   "mimetype": "text/x-python",
   "name": "python",
   "nbconvert_exporter": "python",
   "pygments_lexer": "ipython3",
   "version": "3.6.7"
  }
 },
 "nbformat": 4,
 "nbformat_minor": 2
}
